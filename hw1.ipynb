{
 "cells": [
  {
   "cell_type": "code",
   "execution_count": null,
   "metadata": {},
   "outputs": [],
   "source": [
    "import numpy as np\n",
    "import scipy.integrate as spInt\n",
    "import matplotlib.pyplot as plt\n",
    "from scipy.interpolate import interp1d\n",
    "%matplotlib inline\n",
    "\n",
    "\n",
    "# Model definition\n",
    "b = 2 # Dampener coefficient (b) - Turn this up to increase the rise time\n",
    "k = 3 # Spring constant - Turn this down to decrease the rise time\n",
    "y0 = [0] # Initial amount of force\n",
    "timeToSolve = (0,10) # Time interval in seconds to solve the ODE over\n",
    "steps = 10000 # Number of steps\n",
    "\n",
    "# Contraction Element (actuator) parameters\n",
    "maxForce = 0.7\n",
    "activationTime = 500 # In ticks\n",
    "offTime = 100 # In Ticks"
   ]
  },
  {
   "cell_type": "code",
   "execution_count": null,
   "metadata": {},
   "outputs": [],
   "source": [
    "timeArray = np.linspace(timeToSolve[0],timeToSolve[1],steps, dtype=np.float64)\n",
    "stimForce = np.ones_like(timeArray)\n",
    "\n",
    "onOrOff = -1\n",
    "for x in range(0, len(stimForce)-offTime, activationTime):\n",
    "    stimForce[x:x+offTime] = onOrOff\n",
    "    onOrOff *= -1\n",
    "stimForce[stimForce==-1] = 0\n",
    "stimForce = stimForce*maxForce\n",
    "idxArray = list(range(0,len(timeArray)))\n",
    "odeArgs = (b, k, stimForce,timeArray)\n",
    "y = spInt.solve_ivp(muscleModelODE, t_span=timeToSolve, t_eval=timeArray, y0=y0, args=odeArgs)\n",
    "f, (ax1, ax2) = plt.subplots(2)\n",
    "ax1.plot(y.y[0])\n",
    "ax2.plot(stimForce)\n",
    "f.set_size_inches(9,9)\n",
    "ax1.set_title(\"Output Force\")\n",
    "ax2.set_title(\"Activation\")"
   ]
  },
  {
   "cell_type": "code",
   "execution_count": null,
   "metadata": {},
   "outputs": [],
   "source": [
    "#solve_ivp functions must be in the form func(t, y) D:\n",
    "def muscleModelODE(t, y, b, k, drivingForce, timeArray):\n",
    "    # fill in the gap\n",
    "    diffArray = np.absolute(timeArray-t)\n",
    "    idx = diffArray.argmin()\n",
    "    dydt = [((k/b)*(drivingForce[idx] - y))]\n",
    "    return dydt"
   ]
  }
 ],
 "metadata": {
  "interpreter": {
   "hash": "7d1ee23ddc7806c86234d02e296cb3db1d57fa85bba5c4e5907dc41dd3e5092d"
  },
  "kernelspec": {
   "display_name": "Python 3.10.4 ('bme504')",
   "language": "python",
   "name": "python3"
  },
  "language_info": {
   "codemirror_mode": {
    "name": "ipython",
    "version": 3
   },
   "file_extension": ".py",
   "mimetype": "text/x-python",
   "name": "python",
   "nbconvert_exporter": "python",
   "pygments_lexer": "ipython3",
   "version": "3.10.4"
  },
  "orig_nbformat": 4
 },
 "nbformat": 4,
 "nbformat_minor": 2
}
