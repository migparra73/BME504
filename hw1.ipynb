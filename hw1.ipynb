{
 "cells": [
  {
   "cell_type": "code",
   "execution_count": 238,
   "metadata": {},
   "outputs": [],
   "source": [
    "import numpy as np\n",
    "import scipy.integrate as spInt\n",
    "import matplotlib.pyplot as plt\n",
    "from scipy.interpolate import interp1d\n",
    "%matplotlib inline\n",
    "# Create the muscle\n",
    "\n",
    "b = 100 # Dampener coefficient\n",
    "k = 10 # Spring \n",
    "\n",
    "# Input function\n",
    "y0 = [0]\n",
    "timeToSolve = (0,10)\n",
    "steps = 10000\n",
    "timeArray = np.linspace(timeToSolve[0],timeToSolve[1],steps, dtype=np.float64)\n",
    "stimForce = np.ones_like(timeArray)\n",
    "activationTime = 200\n",
    "offTime = 100\n",
    "for x in range(0, len(stimForce)-offTime, activationTime):\n",
    "    stimForce[x:x+offTime] = 0\n",
    "\n",
    "idxArray = list(range(0,len(timeArray)))\n",
    "odeArgs = (b, k, stimForce,timeArray)"
   ]
  },
  {
   "cell_type": "code",
   "execution_count": null,
   "metadata": {},
   "outputs": [],
   "source": [
    "y = spInt.solve_ivp(muscleModelODE, t_span=timeToSolve, t_eval=timeArray, y0=y0, args=odeArgs, rtol=1e-10,atol=1e-10)\n",
    "plt.plot(y.y[0])"
   ]
  },
  {
   "cell_type": "code",
   "execution_count": 228,
   "metadata": {},
   "outputs": [],
   "source": [
    "#solve_ivp functions must be in the form func(t, y) D:\n",
    "def muscleModelODE(t, y, b, k, drivingForce, timeArray):\n",
    "    # fill in the gap\n",
    "    idx = timeArray\n",
    "    dydt = [((k/b)*(1 - y))]\n",
    "    return dydt"
   ]
  },
  {
   "cell_type": "code",
   "execution_count": null,
   "metadata": {},
   "outputs": [],
   "source": [
    "def activationFunction()"
   ]
  }
 ],
 "metadata": {
  "interpreter": {
   "hash": "7d1ee23ddc7806c86234d02e296cb3db1d57fa85bba5c4e5907dc41dd3e5092d"
  },
  "kernelspec": {
   "display_name": "Python 3.10.4 ('bme504')",
   "language": "python",
   "name": "python3"
  },
  "language_info": {
   "codemirror_mode": {
    "name": "ipython",
    "version": 3
   },
   "file_extension": ".py",
   "mimetype": "text/x-python",
   "name": "python",
   "nbconvert_exporter": "python",
   "pygments_lexer": "ipython3",
   "version": "3.10.4"
  },
  "orig_nbformat": 4
 },
 "nbformat": 4,
 "nbformat_minor": 2
}
