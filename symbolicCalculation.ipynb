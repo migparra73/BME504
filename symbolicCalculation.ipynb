{
 "cells": [
  {
   "cell_type": "code",
   "execution_count": 3,
   "metadata": {},
   "outputs": [
    {
     "data": {
      "text/latex": [
       "$\\displaystyle \\left[\\begin{matrix}\\cos{\\left(\\theta \\right)} & \\sin{\\left(\\theta \\right)} & 0 & L \\sin{\\left(\\alpha \\right)} \\cos{\\left(\\theta \\right)}\\\\- \\sin{\\left(\\theta \\right)} & \\cos{\\left(\\theta \\right)} & 0 & - L \\sin{\\left(\\alpha \\right)} \\sin{\\left(\\theta \\right)}\\\\0 & 0 & 1 & L \\cos{\\left(\\alpha \\right)} - S\\\\0 & 0 & 0 & 1\\end{matrix}\\right]$"
      ],
      "text/plain": [
       "⎡cos(θ)   sin(θ)  0  L⋅sin(α)⋅cos(θ) ⎤\n",
       "⎢                                    ⎥\n",
       "⎢-sin(θ)  cos(θ)  0  -L⋅sin(α)⋅sin(θ)⎥\n",
       "⎢                                    ⎥\n",
       "⎢   0       0     1    L⋅cos(α) - S  ⎥\n",
       "⎢                                    ⎥\n",
       "⎣   0       0     0         1        ⎦"
      ]
     },
     "execution_count": 3,
     "metadata": {},
     "output_type": "execute_result"
    }
   ],
   "source": [
    "from sympy import abc, Matrix, init_printing, cos, sin, trigsimp\n",
    "init_printing()\n",
    "t0Matrix = Matrix([[cos(abc.theta), sin(abc.theta), 0, 0] ,[-sin(abc.theta), cos(abc.theta), 0, 0] ,[0, 0, 1, 0], [0, 0, 0, 1]])\n",
    "t1Matrix = Matrix([[cos(abc.alpha), 0, sin(abc.alpha), 0] ,[0, 1, 0, 0] ,[-sin(abc.alpha), 0, cos(abc.alpha), 0], [0, 0, 0, 1]])\n",
    "t2Matrix = Matrix([[1, 0, 0, 0] ,[0,1,0,0] ,[0,0,1,abc.L], [0, 0, 0, 1]])\n",
    "t3Matrix = Matrix([[cos(abc.alpha), 0, -sin(abc.alpha), 0] ,[0, 1, 0, 0] ,[sin(abc.alpha), 0, cos(abc.alpha), 0], [0, 0, 0, 1]])\n",
    "t4Matrix = Matrix([[1, 0, 0, 0] ,[0,1,0,0] ,[0,0,1,-abc.S], [0, 0, 0, 1]])\n",
    "\n",
    "result = t0Matrix * t1Matrix * t2Matrix * t3Matrix * t4Matrix\n",
    "trigsimp(result)"
   ]
  }
 ],
 "metadata": {
  "kernelspec": {
   "display_name": "Python 3.9.5 ('base')",
   "language": "python",
   "name": "python3"
  },
  "language_info": {
   "codemirror_mode": {
    "name": "ipython",
    "version": 3
   },
   "file_extension": ".py",
   "mimetype": "text/x-python",
   "name": "python",
   "nbconvert_exporter": "python",
   "pygments_lexer": "ipython3",
   "version": "3.9.5"
  },
  "orig_nbformat": 4,
  "vscode": {
   "interpreter": {
    "hash": "ba485ec43d2f803a8920fb73c3be7128f9cc48a2179314fb6996a0c6835c6478"
   }
  }
 },
 "nbformat": 4,
 "nbformat_minor": 2
}
